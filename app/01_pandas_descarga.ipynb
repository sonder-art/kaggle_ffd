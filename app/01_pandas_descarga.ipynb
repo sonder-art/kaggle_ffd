{
 "cells": [
  {
   "cell_type": "markdown",
   "metadata": {},
   "source": [
    "# Notebook para descargar datos de Kaggle"
   ]
  },
  {
   "attachments": {},
   "cell_type": "markdown",
   "metadata": {},
   "source": [
    "## Descargar los datos por shell/bash"
   ]
  },
  {
   "attachments": {},
   "cell_type": "markdown",
   "metadata": {},
   "source": [
    "Codigo de shell para crear directorios donde se guardaran los datos descargados y datos limpios (tidy).   \n",
    "Pueden user `os` o `!`.    \n",
    "No olvides agregar el contenido de esas carpetas al gitignore, pero no las carpetas (solo no subir el contenido, pero si la carpeta)"
   ]
  },
  {
   "attachments": {},
   "cell_type": "markdown",
   "metadata": {},
   "source": [
    "Referencias: https://www.kaggle.com/questions-and-answers/131432 "
   ]
  },
  {
   "attachments": {},
   "cell_type": "markdown",
   "metadata": {},
   "source": [
    "Datos: https://www.kaggle.com/datasets/yasirabdaali/kaggle-user-rankings-dataset?select=kaggle+discussions.csv \n",
    "+ “kaggle_competitons”\n",
    "+ “kaggle_datasets”\n",
    "+ “kaggle_discussions”\n",
    "+ “kaggle_notebooks”\n"
   ]
  },
  {
   "cell_type": "code",
   "execution_count": 3,
   "metadata": {},
   "outputs": [
    {
     "name": "stdout",
     "output_type": "stream",
     "text": [
      "/workspaces/kaggle_ffd/app\n"
     ]
    }
   ],
   "source": [
    "# Directorio. No olvides usar paths relativos, por que el docker en produccion no tendra /workspaces/kaggle_ffd/app  sino solo /app/\n",
    "!pwd"
   ]
  },
  {
   "cell_type": "code",
   "execution_count": null,
   "metadata": {},
   "outputs": [],
   "source": [
    "# ...app/datos"
   ]
  },
  {
   "cell_type": "code",
   "execution_count": null,
   "metadata": {},
   "outputs": [],
   "source": [
    "# ...app/datos_limpios"
   ]
  },
  {
   "attachments": {},
   "cell_type": "markdown",
   "metadata": {},
   "source": [
    "## Opcional:  \n",
    "Codigo para revisar que los datos de kaggle se descargaran con exito"
   ]
  },
  {
   "cell_type": "code",
   "execution_count": null,
   "metadata": {},
   "outputs": [],
   "source": []
  }
 ],
 "metadata": {
  "kernelspec": {
   "display_name": "Python 3",
   "language": "python",
   "name": "python3"
  },
  "language_info": {
   "codemirror_mode": {
    "name": "ipython",
    "version": 3
   },
   "file_extension": ".py",
   "mimetype": "text/x-python",
   "name": "python",
   "nbconvert_exporter": "python",
   "pygments_lexer": "ipython3",
   "version": "3.10.9"
  },
  "orig_nbformat": 4
 },
 "nbformat": 4,
 "nbformat_minor": 2
}
